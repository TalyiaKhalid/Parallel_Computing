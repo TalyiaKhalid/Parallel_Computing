{
 "cells": [
  {
   "cell_type": "markdown",
   "metadata": {},
   "source": [
    "## Parallel Version Solved Using Reduction"
   ]
  },
  {
   "cell_type": "code",
   "execution_count": 1,
   "metadata": {
    "id": "NUiN8VqcosFB"
   },
   "outputs": [],
   "source": [
    "# Import the necessary libraries\n",
    "import os\n",
    "import cv2\n",
    "import numpy as np\n",
    "import time\n",
    "from joblib import Parallel, delayed\n",
    "from multiprocessing import Manager, Lock, Value"
   ]
  },
  {
   "cell_type": "code",
   "execution_count": 2,
   "metadata": {
    "id": "zoXpF-QfosFF"
   },
   "outputs": [],
   "source": [
    "# Folder containing the images\n",
    "input_folder = 'cars'  # Replace with the path to your folder\n",
    "output_folder = 'cars_filtered'  # Replace with the path to save filtered images\n",
    "\n",
    "# Creating the output folder if it doesn't exist\n",
    "os.makedirs(output_folder, exist_ok=True)"
   ]
  },
  {
   "cell_type": "code",
   "execution_count": 3,
   "metadata": {
    "id": "SJeyeslfosFG"
   },
   "outputs": [],
   "source": [
    "# Function to process rows (done in parallel)\n",
    "def process_row(row_index, image, filter_kernel, filter_size, height, width, shared_dict, lock,cores):\n",
    "\n",
    "    output_row = np.zeros(width, dtype=np.float32)\n",
    "    for j in range(width):\n",
    "        weighted_sum = 0.0\n",
    "        for k in range(filter_size):\n",
    "            for l in range(filter_size):\n",
    "                row = row_index + k - filter_size // 2\n",
    "                col = j + l - filter_size // 2\n",
    "                if 0 <= row < height and 0 <= col < width:\n",
    "                    weighted_sum += image[row, col] * filter_kernel[k, l]\n",
    "        output_row[j] = weighted_sum\n",
    "\n",
    "\n",
    "    # Critical Section: Applying lock to ensure no 2 or more threads/processes access/modify the variable at the same time\n",
    "    with lock:\n",
    "        shared_dict[\"row_processed\"] += 1\n",
    "\n",
    "    return output_row"
   ]
  },
  {
   "cell_type": "code",
   "execution_count": 4,
   "metadata": {
    "id": "zy3GKREXosFG"
   },
   "outputs": [],
   "source": [
    "# Main function with parallel processing of rows using joblib\n",
    "def parallel_process(image, shared_dict, lock,cores):\n",
    "\n",
    "    # Preparing for parallel processing\n",
    "    height, width = image.shape\n",
    "\n",
    "    filter_kernel = np.array([[0.1, 0.2, 0.1],\n",
    "                              [0.2, 0.1, 0.2],\n",
    "                              [0.1, 0.2, 0.1]], dtype=np.float32)\n",
    "\n",
    "    filter_size = filter_kernel.shape[0]\n",
    "\n",
    "    # Parallelizing the row processing using joblib\n",
    "    results = Parallel(n_jobs=cores)(delayed(process_row)(i, image, filter_kernel, filter_size, height, width, shared_dict, lock,cores) for i in range(height))\n",
    "\n",
    "    # Reduction section: Combine rows into the final output image\n",
    "    output_image = np.array(results, dtype=np.float32)\n",
    "\n",
    "    return output_image"
   ]
  },
  {
   "cell_type": "code",
   "execution_count": 5,
   "metadata": {
    "id": "0Uvz-xQJosFH"
   },
   "outputs": [],
   "source": [
    "# Function to process and save each image (Done in parallel)\n",
    "def process_image(image_path, shared_dict, lock,cores):\n",
    "\n",
    "    # Reading the image in grayscale\n",
    "    image = cv2.imread(image_path, cv2.IMREAD_GRAYSCALE)\n",
    "\n",
    "    if image is None:\n",
    "        print(f\"Could not open or find the image: {image_path}\")\n",
    "        return\n",
    "\n",
    "    # Applying Gaussian Blur\n",
    "    blurred_image = cv2.GaussianBlur(image, (3,3), 0)\n",
    "\n",
    "    # Computing the elevation map using Sobel operator for edge detection\n",
    "    sobel_x = cv2.Sobel(blurred_image, cv2.CV_64F, 1, 0, ksize=3)\n",
    "    sobel_y = cv2.Sobel(blurred_image, cv2.CV_64F, 0, 1, ksize=3)\n",
    "\n",
    "    # Combining the gradients to obtain the magnitude of the gradient\n",
    "    magnitude_gradient = cv2.magnitude(sobel_x, sobel_y)\n",
    "\n",
    "    # Normalizing the image to a range between 0 and 1 (floating-point operations)\n",
    "    image = magnitude_gradient.astype(np.float32) / 255.0\n",
    "\n",
    "    # Applying parallel custom filter operation\n",
    "    output_image = parallel_process(image,shared_dict,lock,cores)\n",
    "\n",
    "    # Clipping the output to stay in the range [0, 1]\n",
    "    output_image = np.clip(output_image, 0.0, 1.0)\n",
    "\n",
    "    # Converting the processed image back to 8-bit (0-255)\n",
    "    processed_image = (output_image * 255).astype(np.uint8)\n",
    "\n",
    "    # Saving the processed image\n",
    "    output_image_path = os.path.join(output_folder, os.path.basename(image_path))\n",
    "    cv2.imwrite(output_image_path, processed_image)\n",
    "\n",
    "    # Critical Section: Applying lock to ensure no 2 or more threads/processes access/modify the variable at the same time\n",
    "    with lock:\n",
    "        shared_dict[\"processed_image_count\"] +=1"
   ]
  },
  {
   "cell_type": "code",
   "execution_count": 6,
   "metadata": {
    "colab": {
     "base_uri": "https://localhost:8080/"
    },
    "id": "b0gJDmJGosFH",
    "outputId": "c6407296-1828-4813-e164-c5bae5168381"
   },
   "outputs": [
    {
     "name": "stdout",
     "output_type": "stream",
     "text": [
      "\n",
      "Testing with 1 cores:\n",
      "Total time taken by the execution of this code for all images using Joblib: 367.88s\n",
      "Processed Images: 200\n",
      "Processed Rows: 96000\n",
      "\n",
      "Testing with 2 cores:\n",
      "Total time taken by the execution of this code for all images using Joblib: 194.66s\n",
      "Processed Images: 200\n",
      "Processed Rows: 96000\n",
      "\n",
      "Testing with 3 cores:\n",
      "Total time taken by the execution of this code for all images using Joblib: 142.93s\n",
      "Processed Images: 200\n",
      "Processed Rows: 96000\n",
      "\n",
      "Testing with 4 cores:\n",
      "Total time taken by the execution of this code for all images using Joblib: 136.57s\n",
      "Processed Images: 200\n",
      "Processed Rows: 96000\n",
      "\n",
      "Testing with 6 cores:\n",
      "Total time taken by the execution of this code for all images using Joblib: 171.38s\n",
      "Processed Images: 200\n",
      "Processed Rows: 96000\n",
      "\n",
      "Testing with 8 cores:\n",
      "Total time taken by the execution of this code for all images using Joblib: 182.34s\n",
      "Processed Images: 200\n",
      "Processed Rows: 96000\n",
      "\n",
      "Testing with 10 cores:\n",
      "Total time taken by the execution of this code for all images using Joblib: 164.08s\n",
      "Processed Images: 200\n",
      "Processed Rows: 96000\n",
      "\n",
      "Testing with 12 cores:\n",
      "Total time taken by the execution of this code for all images using Joblib: 189.11s\n",
      "Processed Images: 200\n",
      "Processed Rows: 96000\n",
      "\n",
      "Testing with 14 cores:\n",
      "Total time taken by the execution of this code for all images using Joblib: 141.63s\n",
      "Processed Images: 200\n",
      "Processed Rows: 96000\n",
      "\n",
      "Testing with 16 cores:\n",
      "Total time taken by the execution of this code for all images using Joblib: 95.47s\n",
      "Processed Images: 200\n",
      "Processed Rows: 96000\n"
     ]
    }
   ],
   "source": [
    "# List of image paths to process\n",
    "image_paths = [os.path.join(input_folder, filename) for filename in os.listdir(input_folder)\n",
    "        if filename.endswith(('.jpg', '.jpeg', '.png', '.bmp'))]\n",
    "\n",
    "core_counts=[1,2,3,4,6,8,10,12,14,16]\n",
    "for cores in core_counts:\n",
    "        # Manager provides a way to share data safely between processes by allowing access to a shared object\n",
    "        with Manager() as manager:\n",
    "                \n",
    "                shared_dict = manager.dict({\"processed_image_count\": 0, \"row_processed\": 0}) \n",
    "                lock = manager.Lock()\n",
    "\n",
    "                print(f\"\\nTesting with {cores} cores:\")\n",
    "                Start_time = time.time()\n",
    "                \n",
    "                # Parallelizing= the image processing using joblib\n",
    "                Parallel(n_jobs=cores)(delayed(process_image)(image_path,shared_dict,lock,cores) for image_path in image_paths)\n",
    "\n",
    "                #Printing\n",
    "                print(f\"Total time taken by the execution of this code for all images using Joblib: {time.time() - Start_time:.2f}s\")\n",
    "                print(f\"Processed Images: {shared_dict['processed_image_count']}\")\n",
    "                print(f\"Processed Rows: {shared_dict['row_processed']}\")"
   ]
  }
 ],
 "metadata": {
  "colab": {
   "provenance": []
  },
  "kernelspec": {
   "display_name": "base",
   "language": "python",
   "name": "python3"
  },
  "language_info": {
   "codemirror_mode": {
    "name": "ipython",
    "version": 3
   },
   "file_extension": ".py",
   "mimetype": "text/x-python",
   "name": "python",
   "nbconvert_exporter": "python",
   "pygments_lexer": "ipython3",
   "version": "3.11.7"
  }
 },
 "nbformat": 4,
 "nbformat_minor": 0
}
